{
 "cells": [
  {
   "cell_type": "markdown",
   "id": "55a5fa9b-8bf8-4580-a4c7-67b624734d27",
   "metadata": {},
   "source": [
    "### Notebook tools for porting/creating news post"
   ]
  },
  {
   "cell_type": "markdown",
   "id": "b099b907-0769-4c32-980d-30e9db0654da",
   "metadata": {},
   "source": [
    "News icon cheat sheet:\n",
    "\n",
    "- [N]ews: newspaper-o\n",
    "- [D]ata: file-text-o\n",
    "- [C]ode: code\n",
    "- [A]wards: trophy\n",
    "- [P]resentation: slideshare\n",
    "- [I]nfo; money\n",
    "- [T]hesis defense: shield\n",
    "- [Pl]acement: university\n",
    "- [Pe]ople: users\n",
    "- [G]raduation: graduation-cap\n"
   ]
  },
  {
   "cell_type": "code",
   "execution_count": 1,
   "id": "6b907a16-ac49-47cc-ac99-2427cb9128cd",
   "metadata": {},
   "outputs": [],
   "source": [
    "from datetime import date\n",
    "import glob\n",
    "import re"
   ]
  },
  {
   "cell_type": "code",
   "execution_count": 2,
   "id": "acbba991-ec42-4089-915a-0d8d6efebfb5",
   "metadata": {},
   "outputs": [],
   "source": [
    "today = str(date.today())\n",
    "\n",
    "def get_file_name():\n",
    "    count = 0\n",
    "    count_o = 97\n",
    "    files = set([s[10:] for s in glob.glob(\"../_posts/*\")])\n",
    "    while True:\n",
    "        name = today+\"-\"+chr(count_o)+str(count)+\".md\"\n",
    "        if name not in files:\n",
    "            break\n",
    "        if count < 9:\n",
    "            count += 1\n",
    "        else:\n",
    "            count_o += 1\n",
    "            count = 0\n",
    "    return name"
   ]
  },
  {
   "cell_type": "code",
   "execution_count": 3,
   "id": "5059bb01-2ec0-495d-8e3e-a23b3eb31df6",
   "metadata": {},
   "outputs": [],
   "source": [
    "icon_map = {\"N\": \"newspaper-o\",\n",
    "            \"D\": \"file-text-o\",\n",
    "            \"C\": \"code\",\n",
    "            \"A\": \"trophy\",\n",
    "            \"P\": \"slideshare\",\n",
    "            \"I\": \"money\",\n",
    "            \"T\": \"shield\",\n",
    "            \"PL\": \"university\",\n",
    "            \"PE\": \"user\",\n",
    "            \"G\": \"graduation-cap\"}"
   ]
  },
  {
   "cell_type": "code",
   "execution_count": 4,
   "id": "86c55430-f716-44f8-9208-e8ab8ae8580d",
   "metadata": {},
   "outputs": [],
   "source": [
    "def gen_news(news, quarter, icon):\n",
    "    out_file = open(\"../_posts/\"+get_file_name(), 'w')\n",
    "    out_file.write(\"---\\nlayout: post\\nshortnews: true\\nicon: %s\\nquarter: %s\\n---\\n\\n\" % (icon_map[icon.upper()], quarter))\n",
    "    out_file.write(news+\"\\n\")\n",
    "    out_file.close()"
   ]
  },
  {
   "cell_type": "code",
   "execution_count": 6,
   "id": "04dba666-62b4-49fa-bf06-e02b193e0436",
   "metadata": {},
   "outputs": [],
   "source": [
    "news = '<A HREF=\"https://home.ttic.edu/~klivescu/\">Karen Livescu</A> has been named a <A HREF=\"https://www.ieee.org/content/dam/ieee-org/ieee/web/org/about/fellows/fellow-committee/2025-fellows-class-announcement.pdf\">2025 IEEE Fellow</A> for her pioneering contributions to multi-view and pre-trained speech representation learning. Congrats, Karen!'\n",
    "#news = 'Outstanding Paper Award at <A HREF=\"https://2024.emnlp.org/program/best_papers/\">EMNLP 2024</A>. Congrats to Kanishka and his collaborator Kyle Mahowald at UT Austin!'\n",
    "#news = 'Best Paper Award at <A HREF=\"https://2024.emnlp.org/program/best_papers/\">EMNLP 2024</A>. Congrats to Karen and collaborators William Chen, Wangyou Zhang, Yifan Peng, Xinjian Li, Jinchuan Tian, Jiatong Shi, Xuankai Chang, Soumi Maiti, and Shinji Watanabe at CMU!'"
   ]
  },
  {
   "cell_type": "code",
   "execution_count": 7,
   "id": "42dace49-e661-44ab-9cff-7ce2394fca84",
   "metadata": {},
   "outputs": [],
   "source": [
    "gen_news(news, \"Fall 2024\", \"A\")"
   ]
  },
  {
   "cell_type": "markdown",
   "id": "d386ce04-8d12-4fd0-a8cb-ffb44184d1d0",
   "metadata": {},
   "source": [
    "#### Import news from old website"
   ]
  },
  {
   "cell_type": "code",
   "execution_count": 169,
   "id": "58f62628-897e-4d0c-9151-ea807feb9c60",
   "metadata": {},
   "outputs": [],
   "source": [
    "news_raw = '''<li><b>Fall 2024...</b> <A HREF=\"https://www.ttic.edu/students/\">Marcelo Beramendi Caballero</A> and <A HREF=\"https://www.ttic.edu/students/\">Jiamin (Jessica) Yang</A> join as new Ph.D. students.  Welcome, Marcelo and Jessica!</li>\n",
    "  <li><b>Fall 2024...</b> <a href=\"https://lygao.me/\">Lingyu Gao</a>, <a href=\"https://cs.uwaterloo.ca/~fhs/\">Freda Shi</a>, and <a href=\"https://www.linkedin.com/in/davis-yoshida-05537298/\">Davis Yoshida</a> have graduated.  In addition, Freda's thesis was designated a Thesis of Distinction by TTIC.  Congrats, all!</li>\n",
    "  <li><b>Fall 2024...</b> <a href=\"https://kanishka.website/\">Kanishka Misra</a> and <a href=\"https://zhewei-sun.github.io/\">Zhewei Sun</a> join as new Research Assistant Professors.  Welcome, Kanishka and Zhewei!</li>\n",
    "  <li><b>Summer 2024...</b> Outstanding Paper Award at <A HREF=\"https://2024.aclweb.org/program/best_papers/\">ACL 2024</A>. Congrats to TTIC student <A HREF=\"https://www.linkedin.com/in/davis-yoshida-05537298/\">Davis Yoshida</A> and former TTIC faculty <A HREF=\"https://home.ttic.edu/~kgimpel/\">Kevin Gimpel</A> and <A HREF=\"https://kartikgo.github.io/\">Kartik Goyal</A></li>!\n",
    "  <li><b>Summer 2024...</b> <a href=\"https://nlp.cs.stonybrook.edu/content/jiawei-joe-zhou\">Jiawei (Joe) Zhou</a>, Research Asssistant Professor 2023-24, has joined Stony Brook University as an Assistant Professor.  Congrats, Joe!</li>\n",
    "  <li><b>Summer 2024...</b> <a href=\"https://www.hongyuanmei.com/\">Hongyuan Mei</a>, Research Asssistant Professor 2021-24, has joined Google as a Senior Research Scientist.  Congrats, Hongyuan!</li>\n",
    "  <li><b>Fall 2023...</b> <a href=\"https://jkasai.github.io/\">Jungo Kasai</a> and <a href=\"\">Jiawei (Joe) Zhou</a> join as new Research Assistant Professors.  Welcome, Jungo and Joe!</li>\n",
    "  <li><b>Fall 2023...</b> Best Student Paper Award at <A HREF=\"http://asru2023.org\">ASRU 2023</A>. Congrats to TTIC students <A HREF=\"https://cmchien.ttic.edu/\">Chung-Ming Chien</A> and <A HREF=\"https://home.ttic.edu/~jcchou/\">Ju-Chieh Chou</A> and U. Chicago Ph.D. student <A HREF=\"https://physics.uchicago.edu/people/profile/mingjiamei-zhang/\">Mingjiamei Zhang</A></li>!\n",
    "  <li><b>Fall 2023...</b> TTIC submission to the Second WMT Shared Task on Sign Language Translation (WMT-SLT), led by <A href=\"https://mudtriangle.com/\">Marcelo Sandoval-Castañeda</A>, is the top system (see the results <A HREF=\"https://aclanthology.org/2023.wmt-1.4.pdf\">here</A>).  Congrats, Marcelo and all!</li>\n",
    "  <li><b>Fall 2023...</b> Ph.D. student <a href=\"https://cmchien.ttic.edu/\">Chung-Ming Chien</a> wins Taiwan Government Scholarship to Study Abroad (GSSA).  Congrats, Chung-Ming!</li>\n",
    "  <li><b>Fall 2023...</b> Test of Time Runner-Up Award at <a href=\"https://icml.cc/Conferences/2023/Test-of-Time\">ICML 2023</a>.  Congrats to <a href=\"http://ttic.edu/livescu\">Karen Livescu</a>, RAP alumnus <a href=\"https://www.cs.jhu.edu/~raman/Home.html\">Raman Arora</a>, and collaborators <a href=\"https://scholar.google.com/citations?user=TNWwJ-UAAAAJ&hl=en\">Galen Andrew</a> and <a href=\"https://people.ece.uw.edu/bilmes/p/pgs/index.html\">Jeff Bilmes</a>!</li>\n",
    "  <li><b>Fall 2023...</b> <a href=\"https://github.com/shane-settle/\">Shane Settle</a>, <a href=\"https://home.ttic.edu/~bshi/\">Bowen Shi</a>, and <a href=\"http://ttic.uchicago.edu/~qmtang\">Qingming Tang</a> have graduated.  In addition, Bowen's thesis was designated a Thesis of Distinction by TTIC.  Congrats, all!</li>\n",
    "  <li><b>Fall 2023...</b> <a href=\"https://jkasai.github.io/\">Jungo Kasai</a> and <a href=\"\">Jiawei (Joe) Zhou</a> join as new Research Assistant Professors.  Welcome, Jungo and Joe!</li>\n",
    "  <li><b>Fall 2023...</b> <A HREF=\"https://kartikgo.github.io/\">Kartik Goyal</A>, Research Assistant Professor 2021-2023, is now Assistant Professor at Georgia Tech. Congrats, Kartik!</li>\n",
    "  <li><b>Fall 2022...</b> Ph.D. student <a href=\"https://home.ttic.edu/~freda/\">Freda Shi</a> wins Best Talk Award at the <a href=\"https://student-workshop.ttic.edu/\">TTIC Student Workshop</a>.  Congrats, Freda!</li>\n",
    "  <li><b>Fall 2022...</b> TTIC submission to the WMT Sign Language Translation (WMT-SLT) shared task, led by Bowen Shi, is among the top two systems (see the results <A HREF=\"https://www.statmt.org/wmt22/pdf/2022.wmt-1.71.pdf\">here</A>).  Congrats, Bowen and all!</li>\n",
    "  <li><b>Fall 2022...</b> <A HREF=\"https://ming024.github.io/\">Chung-Ming Chien</A> joins as a new Ph.D. student.  Welcome, Chung-Ming!</li>\n",
    "  <li><b>Fall 2022...</b> <A HREF=\"https://shtoshni.github.io/\">Shubham Toshniwal</A> and <A HREF=\"https://ttic.uchicago.edu/~mchen\">Mingda Chen</A> have graduated and are now Research Scientists at Meta AI.  Congrats, Mingda and Shubham!</li>\n",
    "  <li><b>Fall 2021...</b> <A HREF=\"https://ttic.uchicago.edu/~freda/\">Freda Shi</A> has been awarded a <A HREF=\"https://research.google/outreach/phd-fellowship/recipients/\">Google PhD Fellowship</A> in Natural Language Processing. Congrats, Freda!</li>\n",
    "  <li><b>Fall 2021...</b> Best Short Paper Award at the <A HREF=\"https://sites.google.com/view/crac2021/\">Fourth Workshop on Computational Models of Reference, Anaphora, and Coreference (CRAC) 2021</A>. Congrats to Ph.D. student <A HREF=\"http://ttic.uchicago.edu/~shtoshni/\">Shubham Toshniwal</A>, co-first author <A HREF=\"https://www.cs.jhu.edu/~paxia/\">Patrick Xia</A>, and all of the co-authors!</li>\n",
    "  <li><b>Fall 2021...</b> <A HREF=\"https://home.ttic.edu/~jcchou/\">Ju-Chieh Chou</A> joins as a new Ph.D. student.  Welcome, Ju-Chieh!</li>\n",
    "  <li><b>Fall 2021...</b> <a href=\"https://kartikgo.github.io/\">Kartik Goyal</a> and <a href=\"https://www.hongyuanmei.com/\">Hongyuan Mei</a> join as new Research Assistant Professors.  Welcome, Hongyuan and Kartik!</li>\n",
    "  <li><b>Summer 2021...</b> <A HREF=\"http://ttic.uchicago.edu/~lifu/\">Lifu Tu</A> has graduated and is now a Research Scientist at Salesforce Research.  Congrats, Lifu!</li>\n",
    "  <li><b>Fall 2020...</b> <A HREF=\"https://ttic.uchicago.edu/~mchen/\">Mingda Chen</A> has been awarded a <A HREF=\"https://ai.googleblog.com/2020/10/announcing-2020-google-phd-fellows.html\">Google PhD Fellowship</A> in Natural Language Processing. Congrats, Mingda!</li>\n",
    "  <li><b>Fall 2020...</b> Ph.D. alumnus <A HREF=\"http://people.csail.mit.edu/haotang/\">Hao Tang</a> is now Lecturer at University of Edinburgh. Congrats, Hao!</li>\n",
    "  <li><b>Fall 2020...</b> <A HREF=\"https://sites.google.com/site/mrinsachan/\">Mrinmaya Sachan</A>, Research Assistant Professor 2019-2020, is now Assistant Professor at ETH Zurich. Congrats, Mrinmaya!</li>\n",
    "  <li><b>Fall 2020...</b> <A HREF=\"http://ttic.uchicago.edu/~haiwang/\">Hai Wang</A> and <A HREF=\"https://0024takeshi.bitbucket.io/\">Takeshi Onishi</A> have graduated.  Congrats, Takeshi and Hai!</li>'''\n",
    "\n",
    "news_raw = news_raw + \"\\n\" + '''<li><b>Fall 2019...</b> <A HREF=\"http://karlstratos.com/\">Karl Stratos</A>, Research Assistant Professor 2018-2020, is now Assistant Professor at Rutgers. Congrats, Karl!</li>\n",
    "  <li><b>Fall 2019...</b> The Chicago Fingerspelling in the Wild data sets are now available <A HREF=\"https://ttic.uchicago.edu/~klivescu/ChicagoFSWild.htm\">here</A>.</li>\n",
    "  <li><b>Fall 2019...</b> <a href=\"https://sites.google.com/site/mrinsachan/\">Mrinmaya Sachan</a> joins TTIC as a Research Assistant Professor</li>\n",
    "  <li><b>Fall 2019...</b> David Yunis joins as a new Ph.D. student in fall 2019</li>\n",
    "  <li><b>Summer 2019...</b> Paper on Visually Grounded Neural Syntax Acquisition is a Best Paper nominee at <A HREF=\"https://acl2019.org/EN/index.xhtml.html\">ACL 2019</A>. Congrats to Ph.D. student <A HREF=\"https://home.ttic.edu/~freda/\">Freda Shi</A>, collaborator <A HREF=\"https://jiayuanm.com/\">Jiayuan Mao</A>, and Profs. <a href=\"https://home.ttic.edu/~kgimpel/\">Kevin Gimnpel</a> and <A HREF=\"ttic.edu/livescu\">Karen Livescu</A></li>!\n",
    "  <li><b>Fall 2018...</b> <a href=\"http://ttic.uchicago.edu/~freda/\">Freda Shi</a> joins as a new Ph.D. student in fall 2018</li>\n",
    "  <li><b>Fall 2018...</b> <a href=\"https://aetting.github.io/\">Allyson Ettinger</a> and <a href=\"https://swiseman.github.io/\">Sam Wiseman</a> join TTIC as Research Assistant Professors</li>\n",
    "  <li><b>Spring 2018...</b> Ph.D. student Bowen Shi won a poster prize at the <a href=\"http://midwest-ml.org/2018/\">Midwest Machine Learning Symposium (MMLS)</a>.  Congrats, Bowen!</li>\n",
    "  <li><b>Fall 2017...</b> <a href=\"http://ttic.uchicago.edu/~wwang5\">Weiran Wang</a>, post-doc 2014-2017, is now a Machine Learning Scientist at Amazon Alexa. Congrats, Weiran!</li>\n",
    "  <li><b>Fall 2017...</b> We welcome three new Ph.D. students in fall 2017: Lingyu Gao, Ankita Pasad, and Davis Yoshida</li>\n",
    "  <li><b>Fall 2017...</b> <A HREF=\"http://people.csail.mit.edu/haotang/\">Hao Tang</a> has successfully defended and submitted his Ph.D. thesis, and is now a post-doc at MIT. Congrats, Hao!</li>\n",
    "  <li><b>Fall 2017...</b> <A HREF=\"http://ttic.uchicago.edu/~llu\">Liang Lu</A>, Research Assistant Professor 2016-2017, is now at Microsoft. Congrats, Liang!</li>\n",
    "  <li><b>Summer 2017...</b> Two Best Paper Awards at <A HREF=\"https://sites.google.com/site/repl4nlp2017/accepted-papers\">ACL RepL4NLP 2017</A> workshop. Congrats to Ph.D. students <A HREF=\"http://ttic.uchicago.edu/~lifu/\">Lifu Tu</A>, <A HREF=\"http://ttic.uchicago.edu/~haiwang/\">Hai Wang</A>, and <A HREF=\"https://0024takeshi.bitbucket.io/\">Takeshi Onishi</A></li>!\n",
    "  <li><b>Summer 2017...</b> <a href=\"http://www.kamperh.com/\">Herman Kamper</a>, post-doc 2017, is now a lecturer at Stellenbosch University. Congrats, Herman!</li>\n",
    "  <li><b>Summer 2017...</b> <A HREF=\"http://www.ttic.edu/stratos\">Karl Stratos</A> joins TTIC as a Research Assistant Professor</li>\n",
    "  <li><b>Before Summer 2017...</b> The Who-did-What data set and leaderboard are now available <A HREF=https://tticnlp.github.io/who_did_what/>here</A>.</li>\n",
    "  <li><b>Before Summer 2017...</b> <A HREF=\"http://ttic.uchicago.edu/~llu\">Liang Lu</A> joins TTIC as a Research Assistant Professor</li>\n",
    "  <li><b>Before Summer 2017...</b> <A HREF=\"http://ttic.uchicago.edu/~taehwan\">Taehwan Kim</A> has successfully defended and submitted his Ph.D. thesis, and is now a post-doc at Caltech.  Congrats, Taehwan!</li>\n",
    "  <li><b>Before Summer 2017...</b> <A HREF=\"http://www.cs.unc.edu/~mbansal/\">Mohit Bansal</A>, Research Assistant Professor 2014-2016, is now an Assistant Professor at UNC Chapel Hill.  Congrats, Mohit!</li>\n",
    "  <li><b>Before Summer 2017...</b> Paper on mapping unseen words wins Best Paper Award at <A HREF=\"https://sites.google.com/site/repl4nlp2016/accepted-papers\">ACL RepL4NLP</A> workshop.  Congrats to visiting student alumnus Pranava Swaroop Madhyastha!</li>\n",
    "  <li><b>Before Summer 2017...</b> Congrats to <A HREF=\"http://ttic.uchicago.edu/~haotang\">Hao Tang</A> and <A HREF=\"http://ttic.uchicago.edu/~taehwan>Taehwan Kim\"</A> for Student Paper Award recognition at <A HREF=\"http://www.icassp2016.org/Awards.asp\">ICASSP 2016</A>!</li>'''"
   ]
  },
  {
   "cell_type": "code",
   "execution_count": 170,
   "id": "904cf0b7-1888-4502-a0f7-b6a1e2b166e7",
   "metadata": {},
   "outputs": [],
   "source": [
    "re_news = re.compile(r\"<li><b>(.*)\\.\\.\\.</b> (.+)</li>\")"
   ]
  },
  {
   "cell_type": "code",
   "execution_count": 171,
   "id": "4c89a1f4-82a5-43ef-9c57-968c67b67aa4",
   "metadata": {},
   "outputs": [],
   "source": [
    "news_quarters = []\n",
    "news_news = []\n",
    "news_icons = []\n",
    "\n",
    "for s in reversed([s.strip() for s in news_raw.split(\"\\n\")]):\n",
    "    match = re_news.search(s)\n",
    "    news_quarters.append(match.group(1))\n",
    "    news_news.append(match.group(2))"
   ]
  },
  {
   "cell_type": "code",
   "execution_count": 172,
   "id": "19a7f62b-e01d-443d-8a98-10ad10d13810",
   "metadata": {},
   "outputs": [
    {
     "data": {
      "text/plain": [
       "{'A', 'C', 'D', 'G', 'I', 'N', 'P', 'PE', 'PL', 'T'}"
      ]
     },
     "execution_count": 172,
     "metadata": {},
     "output_type": "execute_result"
    }
   ],
   "source": [
    "set(list(icon_map.keys()))"
   ]
  },
  {
   "cell_type": "code",
   "execution_count": 173,
   "id": "0d450943-bc39-4ac4-b151-2185ac0834c1",
   "metadata": {},
   "outputs": [
    {
     "name": "stdout",
     "output_type": "stream",
     "text": [
      "Congrats to <A HREF=\"http://ttic.uchicago.edu/~haotang\">Hao Tang</A> and <A HREF=\"http://ttic.uchicago.edu/~taehwan>Taehwan Kim\"</A> for Student Paper Award recognition at <A HREF=\"http://www.icassp2016.org/Awards.asp\">ICASSP 2016</A>!\n"
     ]
    },
    {
     "ename": "KeyboardInterrupt",
     "evalue": "Interrupted by user",
     "output_type": "error",
     "traceback": [
      "\u001b[0;31m---------------------------------------------------------------------------\u001b[0m",
      "\u001b[0;31mKeyboardInterrupt\u001b[0m                         Traceback (most recent call last)",
      "Cell \u001b[0;32mIn[173], line 4\u001b[0m\n\u001b[1;32m      2\u001b[0m \u001b[38;5;28;01mfor\u001b[39;00m i \u001b[38;5;129;01min\u001b[39;00m \u001b[38;5;28mrange\u001b[39m(\u001b[38;5;28mlen\u001b[39m(news_news)):\n\u001b[1;32m      3\u001b[0m     \u001b[38;5;28mprint\u001b[39m(news_news[i])\n\u001b[0;32m----> 4\u001b[0m     icon \u001b[38;5;241m=\u001b[39m \u001b[38;5;28minput\u001b[39m(\u001b[38;5;124m\"\u001b[39m\u001b[38;5;124mEnter icon: \u001b[39m\u001b[38;5;130;01m\\n\u001b[39;00m\u001b[38;5;124m[N]ews \u001b[39m\u001b[38;5;130;01m\\n\u001b[39;00m\u001b[38;5;124m[D]ata \u001b[39m\u001b[38;5;130;01m\\n\u001b[39;00m\u001b[38;5;124m[C]ode \u001b[39m\u001b[38;5;130;01m\\n\u001b[39;00m\u001b[38;5;124m[A]wards \u001b[39m\u001b[38;5;130;01m\\n\u001b[39;00m\u001b[38;5;124m[P]resentation \u001b[39m\u001b[38;5;130;01m\\n\u001b[39;00m\u001b[38;5;124m[I]nfo \u001b[39m\u001b[38;5;130;01m\\n\u001b[39;00m\u001b[38;5;124m[T]hesis defense \u001b[39m\u001b[38;5;130;01m\\n\u001b[39;00m\u001b[38;5;124m[Pl]acement \u001b[39m\u001b[38;5;130;01m\\n\u001b[39;00m\u001b[38;5;124m[Pe]ople \u001b[39m\u001b[38;5;130;01m\\n\u001b[39;00m\u001b[38;5;124m[G]raduation \u001b[39m\u001b[38;5;130;01m\\n\u001b[39;00m\u001b[38;5;124m\"\u001b[39m)\n\u001b[1;32m      5\u001b[0m     \u001b[38;5;28;01mif\u001b[39;00m icon\u001b[38;5;241m.\u001b[39mupper() \u001b[38;5;129;01mnot\u001b[39;00m \u001b[38;5;129;01min\u001b[39;00m icon_key_set:\n\u001b[1;32m      6\u001b[0m         \u001b[38;5;28mprint\u001b[39m(\u001b[38;5;124m\"\u001b[39m\u001b[38;5;124mBad icon code\u001b[39m\u001b[38;5;124m\"\u001b[39m)\n",
      "File \u001b[0;32m/Volumes/Data/opt/anaconda3/lib/python3.11/site-packages/ipykernel/kernelbase.py:1262\u001b[0m, in \u001b[0;36mKernel.raw_input\u001b[0;34m(self, prompt)\u001b[0m\n\u001b[1;32m   1260\u001b[0m     msg \u001b[38;5;241m=\u001b[39m \u001b[38;5;124m\"\u001b[39m\u001b[38;5;124mraw_input was called, but this frontend does not support input requests.\u001b[39m\u001b[38;5;124m\"\u001b[39m\n\u001b[1;32m   1261\u001b[0m     \u001b[38;5;28;01mraise\u001b[39;00m StdinNotImplementedError(msg)\n\u001b[0;32m-> 1262\u001b[0m \u001b[38;5;28;01mreturn\u001b[39;00m \u001b[38;5;28mself\u001b[39m\u001b[38;5;241m.\u001b[39m_input_request(\n\u001b[1;32m   1263\u001b[0m     \u001b[38;5;28mstr\u001b[39m(prompt),\n\u001b[1;32m   1264\u001b[0m     \u001b[38;5;28mself\u001b[39m\u001b[38;5;241m.\u001b[39m_parent_ident[\u001b[38;5;124m\"\u001b[39m\u001b[38;5;124mshell\u001b[39m\u001b[38;5;124m\"\u001b[39m],\n\u001b[1;32m   1265\u001b[0m     \u001b[38;5;28mself\u001b[39m\u001b[38;5;241m.\u001b[39mget_parent(\u001b[38;5;124m\"\u001b[39m\u001b[38;5;124mshell\u001b[39m\u001b[38;5;124m\"\u001b[39m),\n\u001b[1;32m   1266\u001b[0m     password\u001b[38;5;241m=\u001b[39m\u001b[38;5;28;01mFalse\u001b[39;00m,\n\u001b[1;32m   1267\u001b[0m )\n",
      "File \u001b[0;32m/Volumes/Data/opt/anaconda3/lib/python3.11/site-packages/ipykernel/kernelbase.py:1305\u001b[0m, in \u001b[0;36mKernel._input_request\u001b[0;34m(self, prompt, ident, parent, password)\u001b[0m\n\u001b[1;32m   1302\u001b[0m \u001b[38;5;28;01mexcept\u001b[39;00m \u001b[38;5;167;01mKeyboardInterrupt\u001b[39;00m:\n\u001b[1;32m   1303\u001b[0m     \u001b[38;5;66;03m# re-raise KeyboardInterrupt, to truncate traceback\u001b[39;00m\n\u001b[1;32m   1304\u001b[0m     msg \u001b[38;5;241m=\u001b[39m \u001b[38;5;124m\"\u001b[39m\u001b[38;5;124mInterrupted by user\u001b[39m\u001b[38;5;124m\"\u001b[39m\n\u001b[0;32m-> 1305\u001b[0m     \u001b[38;5;28;01mraise\u001b[39;00m \u001b[38;5;167;01mKeyboardInterrupt\u001b[39;00m(msg) \u001b[38;5;28;01mfrom\u001b[39;00m \u001b[38;5;28;01mNone\u001b[39;00m\n\u001b[1;32m   1306\u001b[0m \u001b[38;5;28;01mexcept\u001b[39;00m \u001b[38;5;167;01mException\u001b[39;00m:\n\u001b[1;32m   1307\u001b[0m     \u001b[38;5;28mself\u001b[39m\u001b[38;5;241m.\u001b[39mlog\u001b[38;5;241m.\u001b[39mwarning(\u001b[38;5;124m\"\u001b[39m\u001b[38;5;124mInvalid Message:\u001b[39m\u001b[38;5;124m\"\u001b[39m, exc_info\u001b[38;5;241m=\u001b[39m\u001b[38;5;28;01mTrue\u001b[39;00m)\n",
      "\u001b[0;31mKeyboardInterrupt\u001b[0m: Interrupted by user"
     ]
    }
   ],
   "source": [
    "icon_key_set = set(list(icon_map.keys()))\n",
    "for i in range(len(news_news)):\n",
    "    print(news_news[i])\n",
    "    icon = input(\"Enter icon: \\n[N]ews \\n[D]ata \\n[C]ode \\n[A]wards \\n[P]resentation \\n[I]nfo \\n[T]hesis defense \\n[Pl]acement \\n[Pe]ople \\n[G]raduation \\n\")\n",
    "    if icon.upper() not in icon_key_set:\n",
    "        print(\"Bad icon code\")\n",
    "        break\n",
    "    news_icons.append(icon)"
   ]
  },
  {
   "cell_type": "code",
   "execution_count": 113,
   "id": "d02c1c46-4714-4741-aff4-0cd2ceccfafb",
   "metadata": {},
   "outputs": [],
   "source": [
    "news_icons = list(reversed(news_icons))"
   ]
  },
  {
   "cell_type": "code",
   "execution_count": 174,
   "id": "9d81bfe7-58d5-4ecd-9e3d-6ef7b63a4a5b",
   "metadata": {},
   "outputs": [],
   "source": [
    "news_icons = ['A',\n",
    " 'A',\n",
    " 'PL',\n",
    " 'T',\n",
    " 'PE',\n",
    " 'D',\n",
    " 'PE',\n",
    " 'PL',\n",
    " 'A',\n",
    " 'PL',\n",
    " 'T',\n",
    " 'PE',\n",
    " 'PL',\n",
    " 'A',\n",
    " 'PE',\n",
    " 'PE',\n",
    " 'N',\n",
    " 'PE',\n",
    " 'PE',\n",
    " 'D',\n",
    " 'PL',\n",
    " 'G',\n",
    " 'PL',\n",
    " 'PL',\n",
    " 'A',\n",
    " 'G',\n",
    " 'PE',\n",
    " 'PE',\n",
    " 'A',\n",
    " 'A',\n",
    " 'G',\n",
    " 'PE',\n",
    " 'N',\n",
    " 'A',\n",
    " 'PL',\n",
    " 'PE',\n",
    " 'G',\n",
    " 'A',\n",
    " 'A',\n",
    " 'N',\n",
    " 'A',\n",
    " 'PE',\n",
    " 'Pl',\n",
    " 'PL',\n",
    " 'A',\n",
    " 'PE',\n",
    " 'G',\n",
    " 'PE']"
   ]
  },
  {
   "cell_type": "code",
   "execution_count": 157,
   "id": "ad9d6f95-1ab6-47eb-b7cb-8d987b93a94d",
   "metadata": {},
   "outputs": [
    {
     "data": {
      "text/plain": [
       "['A',\n",
       " 'A',\n",
       " 'PL',\n",
       " 'T',\n",
       " 'PE',\n",
       " 'D',\n",
       " 'PE',\n",
       " 'PL',\n",
       " 'A',\n",
       " 'PL',\n",
       " 'T',\n",
       " 'PE',\n",
       " 'PL',\n",
       " 'A',\n",
       " 'PE',\n",
       " 'PE',\n",
       " 'N',\n",
       " 'PE',\n",
       " 'PE',\n",
       " 'D',\n",
       " 'PL',\n",
       " 'G',\n",
       " 'PL',\n",
       " 'PL',\n",
       " 'A',\n",
       " 'G',\n",
       " 'PE',\n",
       " 'PE',\n",
       " 'A',\n",
       " 'A',\n",
       " 'G',\n",
       " 'PE',\n",
       " 'N',\n",
       " 'A',\n",
       " 'PL',\n",
       " 'PE',\n",
       " 'G',\n",
       " 'A',\n",
       " 'A',\n",
       " 'N',\n",
       " 'A',\n",
       " 'PE',\n",
       " 'Pl',\n",
       " 'PL',\n",
       " 'A',\n",
       " 'PE',\n",
       " 'G',\n",
       " 'PE']"
      ]
     },
     "execution_count": 157,
     "metadata": {},
     "output_type": "execute_result"
    }
   ],
   "source": [
    "news_icons"
   ]
  },
  {
   "cell_type": "code",
   "execution_count": 175,
   "id": "b6c4a22e-c871-42cb-98a0-85b4819215ba",
   "metadata": {},
   "outputs": [],
   "source": [
    "for i in range(len(news_news)):\n",
    "    if i == 42:\n",
    "        continue\n",
    "    gen_news(news_news[i], news_quarters[i], news_icons[i])"
   ]
  },
  {
   "cell_type": "code",
   "execution_count": null,
   "id": "c1b71016-a5b4-4538-8a25-d5a795fe0b02",
   "metadata": {},
   "outputs": [],
   "source": [
    "gen_news(news, \"Fall 2024\", \"A\")"
   ]
  },
  {
   "cell_type": "code",
   "execution_count": 99,
   "id": "2408342f-d081-412f-8eed-59eb68ca25dd",
   "metadata": {},
   "outputs": [],
   "source": [
    "a = [s.strip() for s in news_raw.split(\"\\n\")][0]"
   ]
  },
  {
   "cell_type": "code",
   "execution_count": 57,
   "id": "495f8ce4-a224-4843-9431-f71791badc3c",
   "metadata": {},
   "outputs": [
    {
     "data": {
      "text/plain": [
       "'<li><b>Fall 2024...</b> <A HREF=\"https://www.ttic.edu/students/\">Marcelo Beramendi Caballero</A> and <A HREF=\"https://www.ttic.edu/students/\">Jiamin (Jessica) Yang</A> join as new Ph.D. students.  Welcome, Marcelo and Jessica!</li>'"
      ]
     },
     "execution_count": 57,
     "metadata": {},
     "output_type": "execute_result"
    }
   ],
   "source": [
    "a"
   ]
  },
  {
   "cell_type": "code",
   "execution_count": 64,
   "id": "a24736bc-d8b2-4e2a-ac14-701c46a45792",
   "metadata": {},
   "outputs": [],
   "source": []
  },
  {
   "cell_type": "code",
   "execution_count": 65,
   "id": "422c0e13-9c77-4992-8006-1ebe73d924e0",
   "metadata": {},
   "outputs": [
    {
     "data": {
      "text/plain": [
       "'<A HREF=\"https://www.ttic.edu/students/\">Marcelo Beramendi Caballero</A> and <A HREF=\"https://www.ttic.edu/students/\">Jiamin (Jessica) Yang</A> join as new Ph.D. students.  Welcome, Marcelo and Jessica!'"
      ]
     },
     "execution_count": 65,
     "metadata": {},
     "output_type": "execute_result"
    }
   ],
   "source": [
    "re_news.search(a).group(2)"
   ]
  }
 ],
 "metadata": {
  "kernelspec": {
   "display_name": "Python 3 (ipykernel)",
   "language": "python",
   "name": "python3"
  },
  "language_info": {
   "codemirror_mode": {
    "name": "ipython",
    "version": 3
   },
   "file_extension": ".py",
   "mimetype": "text/x-python",
   "name": "python",
   "nbconvert_exporter": "python",
   "pygments_lexer": "ipython3",
   "version": "3.11.7"
  }
 },
 "nbformat": 4,
 "nbformat_minor": 5
}
